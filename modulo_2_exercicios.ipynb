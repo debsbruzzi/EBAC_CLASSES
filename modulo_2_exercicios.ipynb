{
  "nbformat": 4,
  "nbformat_minor": 0,
  "metadata": {
    "colab": {
      "provenance": [],
      "toc_visible": true,
      "include_colab_link": true
    },
    "kernelspec": {
      "name": "python3",
      "display_name": "Python 3"
    }
  },
  "cells": [
    {
      "cell_type": "markdown",
      "metadata": {
        "id": "view-in-github",
        "colab_type": "text"
      },
      "source": [
        "<a href=\"https://colab.research.google.com/github/debsbruzzi/EBAC_CLASSES/blob/main/modulo_2_exercicios.ipynb\" target=\"_parent\"><img src=\"https://colab.research.google.com/assets/colab-badge.svg\" alt=\"Open In Colab\"/></a>"
      ]
    },
    {
      "cell_type": "markdown",
      "metadata": {
        "id": "KJqp9AANOCtf"
      },
      "source": [
        "<img src=\"https://raw.githubusercontent.com/andre-marcos-perez/ebac-course-utils/main/media/logo/newebac_logo_black_half.png\" alt=\"ebac-logo\">\n",
        "\n",
        "---\n",
        "\n",
        "# **Módulo 02** | Python: Estruturas de Dados\n",
        "Caderno de **Exercícios**<br> \n",
        "Professor [André Perez](https://www.linkedin.com/in/andremarcosperez/)\n",
        "\n",
        "---"
      ]
    },
    {
      "cell_type": "markdown",
      "metadata": {
        "id": "d9jDtUbDOE1-"
      },
      "source": [
        "# **Tópicos**\n",
        "\n",
        "<ol type=\"1\">\n",
        "  <li>Listas;</li>\n",
        "  <li>Conjuntos;</li>\n",
        "  <li>Dicionários.</li>\n",
        "</ol>"
      ]
    },
    {
      "cell_type": "markdown",
      "metadata": {
        "id": "SmoHgt-lwkpD"
      },
      "source": [
        "---"
      ]
    },
    {
      "cell_type": "markdown",
      "metadata": {
        "id": "GABI6OW8OfQ2"
      },
      "source": [
        "# **Exercícios**"
      ]
    },
    {
      "cell_type": "markdown",
      "metadata": {
        "id": "muD1vxozykSC"
      },
      "source": [
        "## 1\\. Listas"
      ]
    },
    {
      "cell_type": "markdown",
      "metadata": {
        "id": "ahrFfCuBxJKs"
      },
      "source": [
        "Criei uma lista chamada `filmes` com o nome dos 10 primeiros filmes mais bem avaliados no site no [IMDB](https://www.imdb.com/chart/top/). Imprima o resultado."
      ]
    },
    {
      "cell_type": "code",
      "metadata": {
        "id": "OgL6Hv3bzOHI",
        "colab": {
          "base_uri": "https://localhost:8080/"
        },
        "outputId": "e615e9e4-90e1-4f71-dd84-4e3aa28dfe66"
      },
      "source": [
        "filmes_imdb = [\n",
        "    'Um sonho de liberdade',\n",
        "    'O poderoso chefão',\n",
        "    'Batman: o cavalheiro das trevas',\n",
        "    'O poderoso chefão II',\n",
        "    '12 homens e uma sentença',\n",
        "    'A lista de Schindler',\n",
        "    'O senhor dos aneis: o retorno do rei',\n",
        "    'Pulp fiction: tempos de violência',\n",
        "    'O senhor dos aneis: a sociedade do anel',\n",
        "    'Três homens em conflito'\n",
        "]\n",
        "print(filmes_imdb)"
      ],
      "execution_count": null,
      "outputs": [
        {
          "output_type": "stream",
          "name": "stdout",
          "text": [
            "['Um sonho de liberdade', 'O poderoso chefão', 'Batman: o cavalheiro das trevas', 'O poderoso chefão II', '12 homens e uma sentença', 'A lista de Schindler', 'O senhor dos aneis: o retorno do rei', 'Pulp fiction: tempos de violência', 'O senhor dos aneis: a sociedade do anel', 'Três homens em conflito']\n"
          ]
        }
      ]
    },
    {
      "cell_type": "markdown",
      "metadata": {
        "id": "KI9zQRT2xa7m"
      },
      "source": [
        "Simule a movimentação do *ranking*. Utilize os métodos `insert` e `pop` para trocar a posição do primeiro e do segundo filme da lista. Imprima o resultado.\n",
        "\n"
      ]
    },
    {
      "cell_type": "code",
      "metadata": {
        "id": "zX3mA3_GzrXH",
        "colab": {
          "base_uri": "https://localhost:8080/"
        },
        "outputId": "289ce1ae-87d4-4fb2-c020-ff221433ada7"
      },
      "source": [
        "top_10_filmes = [ 'Um sonho de liberdade',\n",
        "    'O poderoso chefão',\n",
        "    'Batman: o cavalheiro das trevas',\n",
        "    'O poderoso chefão II',\n",
        "    '12 homens e uma sentença',\n",
        "    'A lista de Schindler',\n",
        "    'O senhor dos aneis: o retorno do rei',\n",
        "    'Pulp fiction: tempos de violência',\n",
        "    'O senhor dos aneis: a sociedade do anel',\n",
        "    'Três homens em conflito']\n",
        "\n",
        "print( top_10_filmes)"
      ],
      "execution_count": null,
      "outputs": [
        {
          "output_type": "stream",
          "name": "stdout",
          "text": [
            "['Um sonho de liberdade', 'O poderoso chefão', 'Batman: o cavalheiro das trevas', 'O poderoso chefão II', '12 homens e uma sentença', 'A lista de Schindler', 'O senhor dos aneis: o retorno do rei', 'Pulp fiction: tempos de violência', 'O senhor dos aneis: a sociedade do anel', 'Três homens em conflito']\n"
          ]
        }
      ]
    },
    {
      "cell_type": "code",
      "source": [
        "# inserir um elemento sem substituir: list.insert(index, val)\n",
        "top_10_filmes.insert(0, 'O poderoso chefão')\n",
        "segundo_colocado = top_10_filmes.pop(2)\n",
        "\n",
        "print(top_10_filmes)\n"
      ],
      "metadata": {
        "colab": {
          "base_uri": "https://localhost:8080/"
        },
        "id": "QRRYoax7uFPu",
        "outputId": "48efcbff-7e5b-4e79-d2ab-eec525b880db"
      },
      "execution_count": null,
      "outputs": [
        {
          "output_type": "stream",
          "name": "stdout",
          "text": [
            "['O poderoso chefão', 'Um sonho de liberdade', 'Batman: o cavalheiro das trevas', 'O poderoso chefão II', '12 homens e uma sentença', 'A lista de Schindler', 'O senhor dos aneis: o retorno do rei', 'Pulp fiction: tempos de violência', 'O senhor dos aneis: a sociedade do anel', 'Três homens em conflito']\n"
          ]
        }
      ]
    },
    {
      "cell_type": "markdown",
      "metadata": {
        "id": "zMN1Q3jdwoJm"
      },
      "source": [
        "---"
      ]
    },
    {
      "cell_type": "markdown",
      "metadata": {
        "id": "lxa5L6uF0ZJE"
      },
      "source": [
        "## 2\\. Conjuntos"
      ]
    },
    {
      "cell_type": "markdown",
      "metadata": {
        "id": "9JahS2Kj0d5u"
      },
      "source": [
        "Aconteceu um erro no seu *ranking*. Simule a duplicação dos três últimos filmes da lista. Imprima o resultado."
      ]
    },
    {
      "cell_type": "code",
      "metadata": {
        "id": "BnjnLBNC6PGe",
        "colab": {
          "base_uri": "https://localhost:8080/"
        },
        "outputId": "4c31121c-d520-4af6-a972-0a38627d435a"
      },
      "source": [
        "top_10 = ('Um sonho de liberdade',\n",
        "    'O poderoso chefão',\n",
        "    'Batman: o cavalheiro das trevas',\n",
        "    'O poderoso chefão II',\n",
        "    '12 homens e uma sentença',\n",
        "    'A lista de Schindler',\n",
        "    'O senhor dos aneis: o retorno do rei',\n",
        "    'Pulp fiction: tempos de violência',\n",
        "    'Pulp fiction: tempos de violência',\n",
        "    'O senhor dos aneis: a sociedade do anel',\n",
        "    'O senhor dos aneis: a sociedade do anel',\n",
        "    'Três homens em conflito',\n",
        "    'Três homens em conflito')\n",
        "\n",
        "print(top_10)\n"
      ],
      "execution_count": null,
      "outputs": [
        {
          "output_type": "stream",
          "name": "stdout",
          "text": [
            "('Um sonho de liberdade', 'O poderoso chefão', 'Batman: o cavalheiro das trevas', 'O poderoso chefão II', '12 homens e uma sentença', 'A lista de Schindler', 'O senhor dos aneis: o retorno do rei', 'Pulp fiction: tempos de violência', 'Pulp fiction: tempos de violência', 'O senhor dos aneis: a sociedade do anel', 'O senhor dos aneis: a sociedade do anel', 'Três homens em conflito', 'Três homens em conflito')\n"
          ]
        }
      ]
    },
    {
      "cell_type": "markdown",
      "metadata": {
        "id": "suxTfCJB6ZiX"
      },
      "source": [
        "Utiliza a conversão `set` e `list` para remover os valores duplicados. Imprima o resultado. "
      ]
    },
    {
      "cell_type": "code",
      "metadata": {
        "id": "ZvUGN-0n6joM",
        "colab": {
          "base_uri": "https://localhost:8080/"
        },
        "outputId": "3c3bd8de-e01e-43ae-f99a-f95eac97788b"
      },
      "source": [
        "  top_10 = {'Um sonho de liberdade',\n",
        "    'O poderoso chefão',\n",
        "    'Batman: o cavalheiro das trevas',\n",
        "    'O poderoso chefão II',\n",
        "    '12 homens e uma sentença',\n",
        "    'A lista de Schindler',\n",
        "    'O senhor dos aneis: o retorno do rei',\n",
        "    'Pulp fiction: tempos de violência',\n",
        "    'Pulp fiction: tempos de violência',\n",
        "    'O senhor dos aneis: a sociedade do anel',\n",
        "    'O senhor dos aneis: a sociedade do anel',\n",
        "    'Três homens em conflito',\n",
        "    'Três homens em conflito'}\n",
        "\n",
        "print(set(top_10))\n",
        "print(type(set(top_10)))"
      ],
      "execution_count": null,
      "outputs": [
        {
          "output_type": "stream",
          "name": "stdout",
          "text": [
            "{'O senhor dos aneis: o retorno do rei', 'Batman: o cavalheiro das trevas', 'O poderoso chefão II', '12 homens e uma sentença', 'A lista de Schindler', 'O poderoso chefão', 'Três homens em conflito', 'Um sonho de liberdade', 'O senhor dos aneis: a sociedade do anel', 'Pulp fiction: tempos de violência'}\n",
            "<class 'set'>\n"
          ]
        }
      ]
    },
    {
      "cell_type": "code",
      "source": [
        "print(list(top_10))\n",
        "print(type(list(top_10)))"
      ],
      "metadata": {
        "colab": {
          "base_uri": "https://localhost:8080/"
        },
        "id": "-YgnUuPezT5j",
        "outputId": "e2f004da-c9d6-415c-ce21-beded8d1f40d"
      },
      "execution_count": null,
      "outputs": [
        {
          "output_type": "stream",
          "name": "stdout",
          "text": [
            "['O senhor dos aneis: o retorno do rei', 'Batman: o cavalheiro das trevas', 'O poderoso chefão II', '12 homens e uma sentença', 'A lista de Schindler', 'O poderoso chefão', 'Três homens em conflito', 'Um sonho de liberdade', 'O senhor dos aneis: a sociedade do anel', 'Pulp fiction: tempos de violência']\n",
            "<class 'list'>\n"
          ]
        }
      ]
    },
    {
      "cell_type": "markdown",
      "metadata": {
        "id": "ShkK35eQ6pAM"
      },
      "source": [
        "---"
      ]
    },
    {
      "cell_type": "markdown",
      "metadata": {
        "id": "EL_FzmxL6rTv"
      },
      "source": [
        "## 3\\. Dicionários"
      ]
    },
    {
      "cell_type": "markdown",
      "metadata": {
        "id": "i8l0gFqRCpfT"
      },
      "source": [
        "Repita os exercícios da parte 1 (listas). Os elementos da lista `filmes` devem ser dicionários no seguinte formato: `{'nome': <nome-do-filme>, 'ano': <ano do filme>}, 'sinopse': <sinopse do filme>}`. "
      ]
    },
    {
      "cell_type": "code",
      "source": [
        "    filmes_imdb = []\n",
        "    \n",
        "    filme = {'nome': 'Um sonho de liberdade', 'ano': '1994', 'sinopse':'dois homens presos'}\n",
        "    filmes_imdb.append(filme)\n",
        "\n",
        "    filme = {'nome': 'O poderoso chefão', 'ano': '1972','sinopse': 'mafia',}\n",
        "    filmes_imdb.append(filme)\n",
        "\n",
        "    filme = {'nome':'Batman: o cavalheiro das trevas', 'ano': '2008', 'sinopse': 'morcego'}\n",
        "    filmes_imdb.append(filme)\n",
        "    \n",
        "    filme = {'nome':'O poderoso chefão II', 'ano': '1974', 'sinopse': 'mais mafia'}\n",
        "    filmes_imdb.append(filme)\n",
        "    \n",
        "    filme = {'nome':'12 homens e uma sentença', 'ano':'1957', 'sinopse': 'filmaço'}\n",
        "    filmes_imdb.append(filme)\n",
        "\n",
        "    filme = {'nome':'A lista de Schindler', 'ano': '1993','sinopse': 'treta',}\n",
        "    filmes_imdb.append(filme)\n",
        "\n",
        "    filme = {'nome':'O senhor dos aneis: o retorno do rei','ano': '2003','sinopse': 'mago, anao e hobbit'}\n",
        "    filmes_imdb.append(filme)\n",
        "\n",
        "    filme = {'nome':'Pulp fiction: tempos de violência','ano':'1994','sinopse': 'drogas e homicidios'}\n",
        "    filmes_imdb.append(filme)\n",
        "\n",
        "    filme = {'nome': 'O senhor dos aneis: a sociedade do anel','ano': '2001','sinopse': 'mais magia'}\n",
        "    filmes_imdb.append(filme)\n",
        "\n",
        "    filme = {'nome': 'Três homens em conflito', 'ano':'1966','sinopse': 'old schoool'}\n",
        "    filmes_imdb.append(filme)\n",
        "\n",
        "print(filmes_imdb)"
      ],
      "metadata": {
        "colab": {
          "base_uri": "https://localhost:8080/"
        },
        "id": "GtFaQXuwze0j",
        "outputId": "625fa411-78e0-4996-b068-f78a5409a968"
      },
      "execution_count": null,
      "outputs": [
        {
          "output_type": "stream",
          "name": "stdout",
          "text": [
            "[{'nome': 'Um sonho de liberdade', 'ano': '1994', 'sinopse': 'dois homens presos'}, {'nome': 'O poderoso chefão', 'ano': '1972', 'sinopse': 'mafia'}, {'nome': 'Batman: o cavalheiro das trevas', 'ano': '2008', 'sinopse': 'morcego'}, {'nome': 'O poderoso chefão II', 'ano': '1974', 'sinopse': 'mais mafia'}, {'nome': '12 homens e uma sentença', 'ano': '1957', 'sinopse': 'filmaço'}, {'nome': 'A lista de Schindler', 'ano': '1993', 'sinopse': 'treta'}, {'nome': 'O senhor dos aneis: o retorno do rei', 'ano': '2003', 'sinopse': 'mago, anao e hobbit'}, {'nome': 'Pulp fiction: tempos de violência', 'ano': '1994', 'sinopse': 'drogas e homicidios'}, {'nome': 'O senhor dos aneis: a sociedade do anel', 'ano': '2001', 'sinopse': 'mais magia'}, {'nome': 'Três homens em conflito', 'ano': '1966', 'sinopse': 'old schoool'}]\n"
          ]
        }
      ]
    }
  ]
}